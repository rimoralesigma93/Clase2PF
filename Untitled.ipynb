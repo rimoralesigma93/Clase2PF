{
 "cells": [
  {
   "cell_type": "code",
   "execution_count": 1,
   "id": "6cf52bac",
   "metadata": {},
   "outputs": [],
   "source": [
    "tupla = \"Python\", True, 5.10, 5, [10]"
   ]
  },
  {
   "cell_type": "code",
   "execution_count": 2,
   "id": "5c5a1878",
   "metadata": {},
   "outputs": [
    {
     "name": "stdout",
     "output_type": "stream",
     "text": [
      "('Python', True, 5.1, 5, [10])\n"
     ]
    }
   ],
   "source": [
    "print(tupla)"
   ]
  },
  {
   "cell_type": "code",
   "execution_count": 3,
   "id": "4e05c3fa",
   "metadata": {},
   "outputs": [],
   "source": [
    "lista=list(tupla)"
   ]
  },
  {
   "cell_type": "code",
   "execution_count": 4,
   "id": "8011ed69",
   "metadata": {},
   "outputs": [
    {
     "name": "stdout",
     "output_type": "stream",
     "text": [
      "lista es  ['Python', True, 5.1, 5, [10]]\n"
     ]
    }
   ],
   "source": [
    "print(\"lista es \", lista)"
   ]
  },
  {
   "cell_type": "code",
   "execution_count": 9,
   "id": "ad8bea39",
   "metadata": {},
   "outputs": [],
   "source": [
    "diccionario = {1,2,3,4,5}"
   ]
  },
  {
   "cell_type": "code",
   "execution_count": 10,
   "id": "b02aaec4",
   "metadata": {},
   "outputs": [
    {
     "name": "stdout",
     "output_type": "stream",
     "text": [
      "{1, 2, 3, 4, 5}\n"
     ]
    }
   ],
   "source": [
    "print(diccionario)"
   ]
  },
  {
   "cell_type": "code",
   "execution_count": 1,
   "id": "d4c42b57",
   "metadata": {},
   "outputs": [
    {
     "ename": "NameError",
     "evalue": "name 'diccionario' is not defined",
     "output_type": "error",
     "traceback": [
      "\u001b[1;31m---------------------------------------------------------------------------\u001b[0m",
      "\u001b[1;31mNameError\u001b[0m                                 Traceback (most recent call last)",
      "Input \u001b[1;32mIn [1]\u001b[0m, in \u001b[0;36m<cell line: 1>\u001b[1;34m()\u001b[0m\n\u001b[1;32m----> 1\u001b[0m \u001b[38;5;28mprint\u001b[39m(\u001b[43mdiccionario\u001b[49m)\n",
      "\u001b[1;31mNameError\u001b[0m: name 'diccionario' is not defined"
     ]
    }
   ],
   "source": [
    "print(diccionario)"
   ]
  },
  {
   "cell_type": "code",
   "execution_count": 2,
   "id": "8a33c052",
   "metadata": {},
   "outputs": [
    {
     "ename": "NameError",
     "evalue": "name 'diccionario' is not defined",
     "output_type": "error",
     "traceback": [
      "\u001b[1;31m---------------------------------------------------------------------------\u001b[0m",
      "\u001b[1;31mNameError\u001b[0m                                 Traceback (most recent call last)",
      "Input \u001b[1;32mIn [2]\u001b[0m, in \u001b[0;36m<cell line: 1>\u001b[1;34m()\u001b[0m\n\u001b[1;32m----> 1\u001b[0m \u001b[38;5;28mprint\u001b[39m(\u001b[43mdiccionario\u001b[49m)\n",
      "\u001b[1;31mNameError\u001b[0m: name 'diccionario' is not defined"
     ]
    }
   ],
   "source": [
    "print(diccionario)"
   ]
  },
  {
   "cell_type": "code",
   "execution_count": 3,
   "id": "2e987cbc",
   "metadata": {},
   "outputs": [
    {
     "ename": "NameError",
     "evalue": "name 'diccionario' is not defined",
     "output_type": "error",
     "traceback": [
      "\u001b[1;31m---------------------------------------------------------------------------\u001b[0m",
      "\u001b[1;31mNameError\u001b[0m                                 Traceback (most recent call last)",
      "Input \u001b[1;32mIn [3]\u001b[0m, in \u001b[0;36m<cell line: 1>\u001b[1;34m()\u001b[0m\n\u001b[1;32m----> 1\u001b[0m \u001b[38;5;28mprint\u001b[39m(\u001b[43mdiccionario\u001b[49m)\n",
      "\u001b[1;31mNameError\u001b[0m: name 'diccionario' is not defined"
     ]
    }
   ],
   "source": [
    "print(diccionario)"
   ]
  },
  {
   "cell_type": "code",
   "execution_count": null,
   "id": "1ada3b72",
   "metadata": {},
   "outputs": [],
   "source": []
  }
 ],
 "metadata": {
  "kernelspec": {
   "display_name": "Python 3 (ipykernel)",
   "language": "python",
   "name": "python3"
  },
  "language_info": {
   "codemirror_mode": {
    "name": "ipython",
    "version": 3
   },
   "file_extension": ".py",
   "mimetype": "text/x-python",
   "name": "python",
   "nbconvert_exporter": "python",
   "pygments_lexer": "ipython3",
   "version": "3.9.12"
  }
 },
 "nbformat": 4,
 "nbformat_minor": 5
}
